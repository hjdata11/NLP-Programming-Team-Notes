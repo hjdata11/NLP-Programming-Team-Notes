{
 "cells": [
  {
   "cell_type": "code",
   "execution_count": 10,
   "metadata": {},
   "outputs": [
    {
     "name": "stdout",
     "output_type": "stream",
     "text": [
      "[('소수', 'Noun'), ('는', 'Josa'), ('1', 'Number'), ('보다', 'Verb'), ('큰', 'Verb'), ('자연수', 'Noun'), ('중', 'Noun'), ('에서', 'Josa'), ('1', 'Number'), ('과', 'Noun'), ('자기', 'Noun'), ('자신', 'Noun'), ('만을', 'Josa'), ('약수', 'Noun'), ('로', 'Josa'), ('갖는', 'Verb'), ('수이', 'Noun'), ('다', 'Josa'), ('.', 'Punctuation'), ('성질', 'Noun'), ('(', 'Punctuation'), ('1', 'Number'), (')', 'Punctuation'), (':', 'Punctuation'), ('소수', 'Noun'), ('는', 'Josa'), ('오직', 'Noun'), ('2', 'Number'), ('개', 'Noun'), ('의', 'Josa'), ('약수', 'Noun'), ('를', 'Josa'), ('갖는다', 'Verb'), ('.', 'Punctuation'), ('성질', 'Noun'), ('(', 'Punctuation'), ('2', 'Number'), (')', 'Punctuation'), (':', 'Punctuation'), ('2', 'Number'), ('는', 'Verb'), ('소수', 'Noun'), ('중', 'Noun'), ('가장', 'Noun'), ('작은', 'Adjective'), ('수이', 'Noun'), ('고', 'Josa'), ('유일한', 'Adjective'), ('짝수', 'Noun'), ('이다', 'Josa'), ('.', 'Punctuation')]\n"
     ]
    }
   ],
   "source": [
    "from konlpy.tag import Okt\n",
    "okt = Okt()\n",
    "\n",
    "print(okt.pos('소수는 1보다 큰 자연수 중에서 1과 자기 자신만을 약수로 갖는 수이다.성질(1) : 소수는 오직 2개의 약수를 갖는다.성질(2) : 2는 소수 중 가장 작은 수이고 유일한 짝수이다.'))"
   ]
  },
  {
   "cell_type": "code",
   "execution_count": 11,
   "metadata": {},
   "outputs": [
    {
     "data": {
      "text/plain": [
       "['소수',\n",
       " '자연수',\n",
       " '중',\n",
       " '과',\n",
       " '자기',\n",
       " '자신',\n",
       " '약수',\n",
       " '수이',\n",
       " '성질',\n",
       " '소수',\n",
       " '오직',\n",
       " '개',\n",
       " '약수',\n",
       " '성질',\n",
       " '소수',\n",
       " '중',\n",
       " '가장',\n",
       " '수이',\n",
       " '짝수']"
      ]
     },
     "execution_count": 11,
     "metadata": {},
     "output_type": "execute_result"
    }
   ],
   "source": [
    "okt.nouns('소수는 1보다 큰 자연수 중에서 1과 자기 자신만을 약수로 갖는 수이다.성질(1) : 소수는 오직 2개의 약수를 갖는다.성질(2) : 2는 소수 중 가장 작은 수이고 유일한 짝수이다.')"
   ]
  },
  {
   "cell_type": "code",
   "execution_count": null,
   "metadata": {},
   "outputs": [],
   "source": [
    "print(okt.pos('(1) 음수의 개수에 따라 부호를 결정한다.$\\to음수가\\begin{cases}{짝수 개이면\\to+} \\\\ {홀수 개이면\\to-}\\end{cases}$'))"
   ]
  },
  {
   "cell_type": "code",
   "execution_count": 3,
   "metadata": {},
   "outputs": [],
   "source": [
    "import sys, math, argparse, re\n",
    "from soynlp.word import WordExtractor\n",
    "from soynlp.tokenizer import LTokenizer\n",
    "from soynlp.normalizer import *\n",
    "from soynlp.hangle import decompose, character_is_korean\n",
    "\n",
    "def soy_tokenize(corpus_fname, model_fname):\n",
    "    word_extractor = WordExtractor(min_frequency=100,\n",
    "                                   min_cohesion_forward=0.05,\n",
    "                                   min_right_branching_entropy=0.0\n",
    "                                   )\n",
    "    word_extractor.load(model_fname)\n",
    "    scores = word_extractor.word_scores()\n",
    "    # https://github.com/lovit/soynlp/blob/master/tutorials/wordextractor_lecture.ipynb\n",
    "    # (1) 주어진 글자가 유기적으로 연결되어 함께 자주 나타나고,\n",
    "    # (2) 그 단어의 우측에 다양한 조사, 어미, 혹은 다른 단어가 등장하여 단어의 우측의 branching entropy가 높다\n",
    "    scores = {key:(scores[key].cohesion_forward * math.exp(scores[key].right_branching_entropy)) for key in scores.keys()}\n",
    "    tokenizer = LTokenizer(scores=scores)\n",
    "    toekns = tokenizer.tokenize('(1) 음수의 개수에 따라 부호를 결정한다.$\\to음수가\\begin{cases}{짝수 개이면\\to+} \\\\ {홀수 개이면\\to-}\\end{cases}$')\n",
    "    print(toekns)"
   ]
  },
  {
   "cell_type": "code",
   "execution_count": 4,
   "metadata": {},
   "outputs": [
    {
     "name": "stdout",
     "output_type": "stream",
     "text": [
      "all cohesion probabilities was computed. # words = 6265\n",
      "all branching entropies was computed # words = 124108\n",
      "all accessor variety was computed # words = 124108\n",
      "['(1)', '음수의', '개수에', '따라', '부호를', '결정', '한다.$', 'o음수가\\x08egin{cases}{짝수', '개이면', 'o+}', '\\\\', '{홀수', '개이면', 'o-}\\\\end{cases}$']\n"
     ]
    }
   ],
   "source": [
    "corpus_fname = \"D:/embedding/data/processed/processed_ratings.txt\"\n",
    "model_fname = \"D:/embedding/data/processed/soyword.model\"\n",
    "\n",
    "soy_tokenize(corpus_fname, model_fname)"
   ]
  },
  {
   "cell_type": "code",
   "execution_count": null,
   "metadata": {},
   "outputs": [],
   "source": [
    "from models.bert.tokenization import FullTokenizer\n",
    "\n",
    "vocab_frname = \"/\""
   ]
  }
 ],
 "metadata": {
  "kernelspec": {
   "display_name": "[Pytorch1.0]",
   "language": "python",
   "name": "pytorch"
  },
  "language_info": {
   "codemirror_mode": {
    "name": "ipython",
    "version": 3
   },
   "file_extension": ".py",
   "mimetype": "text/x-python",
   "name": "python",
   "nbconvert_exporter": "python",
   "pygments_lexer": "ipython3",
   "version": "3.6.12"
  }
 },
 "nbformat": 4,
 "nbformat_minor": 4
}
