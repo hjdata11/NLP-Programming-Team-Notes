{
 "cells": [
  {
   "cell_type": "code",
   "execution_count": 1,
   "metadata": {},
   "outputs": [],
   "source": [
    "import re, json, glob, argparse\n",
    "from gensim.corpora import WikiCorpus, Dictionary\n",
    "from gensim.utils import to_unicode"
   ]
  },
  {
   "cell_type": "code",
   "execution_count": null,
   "metadata": {},
   "outputs": [],
   "source": [
    "WIKI_REMOVE_CHARS = re.compile(\"'+|(=+.{2,30}=+)|__TOC__|(ファイル:).+|:(en|de|it|fr|es|kr|zh|no|fi):|\\n\", re.UNICODE)\n",
    "WIKI_SPACE_CHARS = re.compile(\"(\\\\s|゙|゚|　)+\", re.UNICODE)\n",
    "EMAIL_PATTERN = re.compile(\"(^[a-zA-Z0-9_.+-]+@[a-zA-Z0-9-]+\\.[a-zA-Z0-9-.]+$)\", re.UNICODE)\n",
    "URL_PATTERN = re.compile(\"(ftp|http|https)?://(?:[a-zA-Z]|[0-9]|[$-_@.&+]|[!*\\(\\),]|(?:%[0-9a-fA-F][0-9a-fA-F]))+\", re.UNICODE)\n",
    "WIKI_REMOVE_TOKEN_CHARS = re.compile(\"(\\\\*$|:$|^파일:.+|^;)\", re.UNICODE)\n",
    "MULTIPLE_SPACES = re.compile(' +', re.UNICODE)\n",
    "\n",
    "\n",
    "def tokenize(content, token_min_len=2, token_max_len=100, lower=True):\n",
    "    content = re.sub(EMAIL_PATTERN, ' ', content)  # remove email pattern\n",
    "    content = re.sub(URL_PATTERN, ' ', content) # remove url pattern\n",
    "    content = re.sub(WIKI_REMOVE_CHARS, ' ', content)  # remove unnecessary chars\n",
    "    content = re.sub(WIKI_SPACE_CHARS, ' ', content)\n",
    "    content = re.sub(MULTIPLE_SPACES, ' ', content)\n",
    "    tokens = content.replace(\", )\", \"\").split(\" \")\n",
    "    result = []\n",
    "    for token in tokens:\n",
    "        if not token.startswith('_'):\n",
    "            token_candidate = to_unicode(re.sub(WIKI_REMOVE_TOKEN_CHARS, '', token))\n",
    "        else:\n",
    "            token_candidate = \"\"\n",
    "        if len(token_candidate) > 0:\n",
    "            result.append(token_candidate)\n",
    "    return result"
   ]
  },
  {
   "cell_type": "code",
   "execution_count": null,
   "metadata": {},
   "outputs": [],
   "source": [
    "def make_corpus(in_f, out_f):\n",
    "    \"\"\"Convert Wikipedia xml dump file to text corpus\"\"\"\n",
    "    output = open(out_f, 'w', encoding = \"utf-8\")\n",
    "    #wiki = WikiCorpus(in_f, tokenizer_func=tokenize, dictionary=Dictionary())\n",
    "    wiki = WikiCorpus(in_f, dictionary=Dictionary())\n",
    "    i = 0\n",
    "    for text in wiki.get_texts():\n",
    "        output.write(bytes(' '.join(text), 'utf-8').decode('utf-8') + '\\n')\n",
    "        i = i + 1\n",
    "        if (i % 10000 == 0):\n",
    "            print('Processed ' + str(i) + ' articles')\n",
    "    output.close()\n",
    "    print('Processing complete!')"
   ]
  },
  {
   "cell_type": "code",
   "execution_count": null,
   "metadata": {},
   "outputs": [],
   "source": [
    "\"\"\"Convert Wikipedia xml dump file to text corpus\"\"\"\n",
    "\n",
    "in_f=\"D:/embedding/data/raw/kowiki-latest-pages-articles.xml.bz2\"\n",
    "out_f=\"D:/embedding/data/processed/processed_wiki_ko.txt\"\n",
    "make_corpus(in_f, out_f)"
   ]
  },
  {
   "cell_type": "code",
   "execution_count": 3,
   "metadata": {},
   "outputs": [],
   "source": [
    "corpus_fname=\"D:/embedding/data/raw/KorQuAD_v1.0_train.json\"\n",
    "output_fname=\"D:/embedding/data/processed/processed_korquad_train.txt\"\n",
    "\n",
    "def process_korQuAD(corpus_fname, output_fname):\n",
    "    with open(corpus_fname) as f1, open(output_fname, 'w', encoding='utf-8') as f2:\n",
    "        dataset_json = json.load(f1)\n",
    "        dataset = dataset_json['data']\n",
    "        for article in dataset:\n",
    "            w_lines = []\n",
    "            for paragraph in article['paragraphs']:\n",
    "                w_lines.append(paragraph['context'])\n",
    "                for qa in paragraph['qas']:\n",
    "                    q_text = qa['question']\n",
    "                    for a in qa['answers']:\n",
    "                        a_text = a['text']\n",
    "                        w_lines.append(q_text + \" \" + a_text)\n",
    "            for line in w_lines:\n",
    "                f2.writelines(line + \"\\n\")\n",
    "                \n",
    "process_korQuAD(corpus_fname, output_fname)"
   ]
  },
  {
   "cell_type": "code",
   "execution_count": 4,
   "metadata": {},
   "outputs": [],
   "source": [
    "corpus_path=\"D:/embedding/data/raw/ratings.txt\"\n",
    "output_fname=\"D:/embedding/data/processed/processed_ratings.txt\"\n",
    "with_labels = False\n",
    "\n",
    "def process_nsmc(corpus_path, output_fname, process_json=True, with_label=True):\n",
    "    if process_json:\n",
    "        file_paths = glob.glob(corpus_path + \"/*\")\n",
    "        with open(output_fname, 'w', encoding='utf-8') as f:\n",
    "            for path in file_paths:\n",
    "                contents = json.load(open(path))\n",
    "                for content in contents:\n",
    "                    sentence = content['review'].strip()\n",
    "                    if len(sentence) > 0:\n",
    "                        f.writelines(sentence + \"\\u241E\" + content['movie_id'] + \"\\n\")\n",
    "    else:\n",
    "        with open(corpus_path, 'r', encoding='utf-8') as f1, \\\n",
    "                open(output_fname, 'w', encoding='utf-8') as f2:\n",
    "            next(f1)  # skip head line\n",
    "            for line in f1:\n",
    "                _, sentence, label = line.strip().split('\\t')\n",
    "                if not sentence: continue\n",
    "                if with_label:\n",
    "                    f2.writelines(sentence + \"\\u241E\" + label + \"\\n\")\n",
    "                else:\n",
    "                    f2.writelines(sentence + \"\\n\")\n",
    "                    \n",
    "process_nsmc(corpus_path, output_fname, process_json=False, with_label=True)"
   ]
  },
  {
   "cell_type": "code",
   "execution_count": null,
   "metadata": {},
   "outputs": [],
   "source": []
  }
 ],
 "metadata": {
  "kernelspec": {
   "display_name": "[Pytorch1.0]",
   "language": "python",
   "name": "pytorch"
  },
  "language_info": {
   "codemirror_mode": {
    "name": "ipython",
    "version": 3
   },
   "file_extension": ".py",
   "mimetype": "text/x-python",
   "name": "python",
   "nbconvert_exporter": "python",
   "pygments_lexer": "ipython3",
   "version": "3.6.12"
  }
 },
 "nbformat": 4,
 "nbformat_minor": 5
}
